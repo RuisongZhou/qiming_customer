{
 "cells": [
  {
   "cell_type": "code",
   "execution_count": 1,
   "metadata": {},
   "outputs": [],
   "source": [
    "from Dataloader import *\n",
    "from sklearn.feature_extraction.text import CountVectorizer\n",
    "from sklearn.feature_extraction.text import TfidfVectorizer\n",
    "import pkuseg\n",
    "import gensim"
   ]
  },
  {
   "cell_type": "code",
   "execution_count": 2,
   "metadata": {},
   "outputs": [],
   "source": [
    "# 加载数据\n",
    "loader = Dataloader('../启明学院智能客服知识库.xlsx', '知识库')"
   ]
  },
  {
   "cell_type": "code",
   "execution_count": 3,
   "metadata": {},
   "outputs": [],
   "source": [
    "#处理加载的数据，建立索引，去重\n",
    "sentince_list = []\n",
    "sentince_index = []\n",
    "for st in loader._data_pool:\n",
    "    sentince_list.append(st[0])\n",
    "    sentince_list.append(st[1])\n",
    "    sentince_index.append((st[0],st[2]))\n",
    "    sentince_index.append((st[1],st[2]))\n",
    "sentince_list = list(set(sentince_list))\n",
    "sentince_index = list(set(sentince_index))\n",
    "sentince_index = {each[0]:each[1] for each in sentince_index}"
   ]
  },
  {
   "cell_type": "code",
   "execution_count": 4,
   "metadata": {},
   "outputs": [],
   "source": [
    "#使用TF-IDF将句子转化为向量形式,形成矩阵\n",
    "seg = pkuseg.pkuseg()           # 以默认配置加载模型\n",
    "tfidf_vectorizer = TfidfVectorizer(token_pattern=r\"(?u)\\b\\w+\\b\", max_df=0.7)\n",
    "\n",
    "real_documents = []\n",
    "for item_text in sentince_list:\n",
    "    item_str = seg.cut(item_text)\n",
    "    real_documents.append(item_str)\n",
    "document = [\" \".join(sent0) for sent0 in real_documents]\n",
    "\n",
    "tfidf_model = tfidf_vectorizer.fit(document)\n",
    "#print(tfidf_model.vocabulary_)\n",
    "\n",
    "#print(tfidf_vectorizer.idf_) #特征对应的权重\n",
    "#print(tfidf_vectorizer.get_feature_names())#特征词\n",
    "#print(real_vec.toarray()) #上面对话对应的向量表示\n",
    "sparse_result = tfidf_model.transform(document).todense()"
   ]
  },
  {
   "cell_type": "code",
   "execution_count": 10,
   "metadata": {},
   "outputs": [],
   "source": [
    "#测试句子转换\n",
    "test_sentices = ['启明学院是什么']\n",
    "test_documents = []\n",
    "for item_text in test_sentices:\n",
    "    item_str = seg.cut(item_text)\n",
    "    test_documents.append(item_str)\n",
    "test_document = [\" \".join(sent0) for sent0 in test_documents]\n",
    "result = tfidf_model.transform(test_document).todense()\n"
   ]
  },
  {
   "cell_type": "code",
   "execution_count": 11,
   "metadata": {},
   "outputs": [
    {
     "name": "stdout",
     "output_type": "stream",
     "text": [
      "启明学院秉承\"明德，厚学，求是，创新\"的校训，遵循\"育人为本、创新是魂、责任以行\"的办学理念，把创新精神和实践能力作为培养拔尖创新人才的核心，致力于培养具有创新能力、创业精神和国际视野的未来杰出人才。\n",
      "启明学院基本办学思路为\"开放办学，创新机制，学科交叉，拔尖示范\"。将以\"开放式\"办学的思路统领基本工作，以先进的教育理念为指导，建立有效的教育管理（包括选拔、评价、激励、约束等）机制，创立新的运行机制和多样化拔尖创新人才培养模式。围绕拔尖创新人才的培养目标，构建多学科交叉平台，加强学科间的交叉渗透和跨学科的合作与研究，为培养创新、创业型人才提供学科支撑。面向本科生，突出学生创新能力、创业精神和领导能力的培养，特别是实学创新人才的培养，以此推动面上的创新教育，为我国高等教育改革提供示范。\n",
      "具体详细介绍见学校官网\n"
     ]
    }
   ],
   "source": [
    "#结果测试\n",
    "ans = result*sparse_result.T\n",
    "ans = ans.argmax(axis=1)\n",
    "answer = sentince_list[ans.tolist()[0][0]]\n",
    "answer = loader.get_answer(sentince_index[answer])\n",
    "print(answer)"
   ]
  },
  {
   "cell_type": "code",
   "execution_count": null,
   "metadata": {},
   "outputs": [],
   "source": []
  },
  {
   "cell_type": "code",
   "execution_count": null,
   "metadata": {},
   "outputs": [],
   "source": []
  }
 ],
 "metadata": {
  "kernelspec": {
   "display_name": "Python 3",
   "language": "python",
   "name": "python3"
  },
  "language_info": {
   "codemirror_mode": {
    "name": "ipython",
    "version": 3
   },
   "file_extension": ".py",
   "mimetype": "text/x-python",
   "name": "python",
   "nbconvert_exporter": "python",
   "pygments_lexer": "ipython3",
   "version": "3.6.6"
  },
  "toc": {
   "base_numbering": 1,
   "nav_menu": {},
   "number_sections": true,
   "sideBar": true,
   "skip_h1_title": false,
   "title_cell": "Table of Contents",
   "title_sidebar": "Contents",
   "toc_cell": false,
   "toc_position": {},
   "toc_section_display": true,
   "toc_window_display": false
  },
  "varInspector": {
   "cols": {
    "lenName": 16,
    "lenType": 16,
    "lenVar": 40
   },
   "kernels_config": {
    "python": {
     "delete_cmd_postfix": "",
     "delete_cmd_prefix": "del ",
     "library": "var_list.py",
     "varRefreshCmd": "print(var_dic_list())"
    },
    "r": {
     "delete_cmd_postfix": ") ",
     "delete_cmd_prefix": "rm(",
     "library": "var_list.r",
     "varRefreshCmd": "cat(var_dic_list()) "
    }
   },
   "types_to_exclude": [
    "module",
    "function",
    "builtin_function_or_method",
    "instance",
    "_Feature"
   ],
   "window_display": false
  }
 },
 "nbformat": 4,
 "nbformat_minor": 2
}
