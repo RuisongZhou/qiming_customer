{
 "cells": [
  {
   "cell_type": "code",
   "execution_count": 60,
   "metadata": {},
   "outputs": [],
   "source": [
    "from Dataloader import *\n",
    "from sklearn.feature_extraction.text import CountVectorizer\n",
    "from sklearn.feature_extraction.text import TfidfVectorizer\n",
    "import pkuseg\n",
    "import gensim\n",
    "from tkinter import _flatten\n",
    "from numpy import mat"
   ]
  },
  {
   "cell_type": "code",
   "execution_count": 61,
   "metadata": {},
   "outputs": [],
   "source": [
    "# 加载数据\n",
    "loader = Dataloader('../启明学院智能客服知识库.xlsx', '知识库')"
   ]
  },
  {
   "cell_type": "code",
   "execution_count": 64,
   "metadata": {},
   "outputs": [],
   "source": [
    "#处理加载的数据，建立索引，去重\n",
    "sentince_list = []\n",
    "sentince_index = []\n",
    "for st in loader._data_pool:\n",
    "    sentince_list.append(st[0])\n",
    "    sentince_list.append(st[1])\n",
    "    sentince_index.append((st[0],st[2]))\n",
    "    sentince_index.append((st[1],st[2]))\n",
    "sentince_list = list(set(sentince_list))\n",
    "sentince_index = list(set(sentince_index))\n",
    "sentince_index = {each[0]:each[1] for each in sentince_index}"
   ]
  },
  {
   "cell_type": "code",
   "execution_count": 65,
   "metadata": {},
   "outputs": [],
   "source": [
    "#使用TF-IDF将句子转化为向量形式,形成矩阵\n",
    "seg = pkuseg.pkuseg()           # 以默认配置加载模型\n",
    "tfidf_vectorizer = TfidfVectorizer(token_pattern=r\"(?u)\\b\\w+\\b\", max_df=0.7)\n",
    "\n",
    "real_documents = []\n",
    "for item_text in sentince_list:\n",
    "    item_str = seg.cut(item_text)\n",
    "    real_documents.append(item_str)\n",
    "document = [\" \".join(sent0) for sent0 in real_documents]\n",
    "\n",
    "tfidf_model = tfidf_vectorizer.fit(document)\n",
    "#print(tfidf_model.vocabulary_)\n",
    "\n",
    "#print(tfidf_vectorizer.idf_) #特征对应的权重\n",
    "#print(tfidf_vectorizer.get_feature_names())#特征词\n",
    "#print(real_vec.toarray()) #上面对话对应的向量表示\n",
    "sparse_result = tfidf_model.transform(document).todense()"
   ]
  },
  {
   "cell_type": "code",
   "execution_count": 72,
   "metadata": {},
   "outputs": [],
   "source": [
    "#测试句子转换\n",
    "test_sentices = ['启明学院的领导人是谁？']\n",
    "test_documents = []\n",
    "for item_text in test_sentices:\n",
    "    item_str = seg.cut(item_text)\n",
    "    test_documents.append(item_str)\n",
    "test_document = [\" \".join(sent0) for sent0 in test_documents]\n",
    "result = tfidf_model.transform(test_document).todense()\n"
   ]
  },
  {
   "cell_type": "code",
   "execution_count": 73,
   "metadata": {},
   "outputs": [],
   "source": [
    "#结果测试\n",
    "ans = result*sparse_result.T\n",
    "ans = ans.argmax(axis=1)\n",
    "answer = sentince_list[ans.tolist()[0][0]]\n",
    "answer = loader.get_answer(sentince_index[answer])"
   ]
  },
  {
   "cell_type": "code",
   "execution_count": 74,
   "metadata": {},
   "outputs": [
    {
     "name": "stdout",
     "output_type": "stream",
     "text": [
      "学院现任领导院长：梁亮胜、陈刚、黄刚\n"
     ]
    }
   ],
   "source": [
    "print(answer)"
   ]
  },
  {
   "cell_type": "code",
   "execution_count": null,
   "metadata": {},
   "outputs": [],
   "source": []
  }
 ],
 "metadata": {
  "kernelspec": {
   "display_name": "Python 3",
   "language": "python",
   "name": "python3"
  },
  "language_info": {
   "codemirror_mode": {
    "name": "ipython",
    "version": 3
   },
   "file_extension": ".py",
   "mimetype": "text/x-python",
   "name": "python",
   "nbconvert_exporter": "python",
   "pygments_lexer": "ipython3",
   "version": "3.6.8"
  },
  "toc": {
   "base_numbering": 1,
   "nav_menu": {},
   "number_sections": true,
   "sideBar": true,
   "skip_h1_title": false,
   "title_cell": "Table of Contents",
   "title_sidebar": "Contents",
   "toc_cell": false,
   "toc_position": {},
   "toc_section_display": true,
   "toc_window_display": false
  },
  "varInspector": {
   "cols": {
    "lenName": 16,
    "lenType": 16,
    "lenVar": 40
   },
   "kernels_config": {
    "python": {
     "delete_cmd_postfix": "",
     "delete_cmd_prefix": "del ",
     "library": "var_list.py",
     "varRefreshCmd": "print(var_dic_list())"
    },
    "r": {
     "delete_cmd_postfix": ") ",
     "delete_cmd_prefix": "rm(",
     "library": "var_list.r",
     "varRefreshCmd": "cat(var_dic_list()) "
    }
   },
   "types_to_exclude": [
    "module",
    "function",
    "builtin_function_or_method",
    "instance",
    "_Feature"
   ],
   "window_display": false
  }
 },
 "nbformat": 4,
 "nbformat_minor": 2
}
